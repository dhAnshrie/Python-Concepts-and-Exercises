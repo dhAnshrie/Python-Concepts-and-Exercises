{
 "cells": [
  {
   "cell_type": "markdown",
   "id": "20646c91",
   "metadata": {},
   "source": [
    "# BASIC DATA STRUCTURE PROJECT"
   ]
  },
  {
   "cell_type": "markdown",
   "id": "c6d86c5d",
   "metadata": {},
   "source": [
    "#  IF STATEMENT "
   ]
  },
  {
   "cell_type": "markdown",
   "id": "6b77fe0f",
   "metadata": {},
   "source": [
    "### 1)Find the Largest and Second Largest Number"
   ]
  },
  {
   "cell_type": "code",
   "execution_count": 2,
   "id": "cdfe69a5",
   "metadata": {},
   "outputs": [
    {
     "name": "stdout",
     "output_type": "stream",
     "text": [
      "Enter the first number: 23\n",
      "Enter the second number: 45\n",
      "Enter the third number: 66\n",
      "The largest number is 66\n",
      "The second largest number is 45\n"
     ]
    }
   ],
   "source": [
    "#if Statement:\n",
    "\n",
    "#1)Find the Largest and Second Largest Number\n",
    "\n",
    "# Input three numbers\n",
    "num1 = int(input(\"Enter the first number: \"))\n",
    "num2 = int(input(\"Enter the second number: \"))\n",
    "num3 = int(input(\"Enter the third number: \"))\n",
    "\n",
    "# Determine the largest and second largest numbers\n",
    "if num1 >= num2 and num1 >= num3:\n",
    "    largest = num1\n",
    "    second_largest = max(num2, num3)\n",
    "elif num2 >= num1 and num2 >= num3:\n",
    "    largest = num2\n",
    "    second_largest = max(num1, num3)\n",
    "else:\n",
    "    largest = num3\n",
    "    second_largest = max(num1, num2)\n",
    "\n",
    "print(f\"The largest number is {largest}\")\n",
    "print(f\"The second largest number is {second_largest}\")\n",
    "\n",
    "\n"
   ]
  },
  {
   "cell_type": "markdown",
   "id": "cf0deb17",
   "metadata": {},
   "source": [
    "## 2)Write a program that takes an age as input and categorizes it into Child, Teenager, Adult, or Senior based on the following criteria:\n"
   ]
  },
  {
   "cell_type": "code",
   "execution_count": 3,
   "id": "98780818",
   "metadata": {},
   "outputs": [
    {
     "name": "stdout",
     "output_type": "stream",
     "text": [
      "Enter the age: 45\n",
      "The age category is: Adult\n"
     ]
    }
   ],
   "source": [
    "\n",
    "age = int(input(\"Enter the age: \"))\n",
    "\n",
    "# Determine the age category\n",
    "if age >= 0 and age <= 12:\n",
    "    category = \"Child\"\n",
    "elif age >= 13 and age <= 19:\n",
    "    category = \"Teenager\"\n",
    "elif age >= 20 and age <= 64:\n",
    "    category = \"Adult\"\n",
    "elif age >= 65:\n",
    "    category = \"Senior\"\n",
    "else:\n",
    "    category = \"Invalid age\"\n",
    "\n",
    "print(f\"The age category is: {category}\")"
   ]
  },
  {
   "cell_type": "markdown",
   "id": "42d42d11",
   "metadata": {},
   "source": [
    "# 3 Find the Triangle type "
   ]
  },
  {
   "cell_type": "code",
   "execution_count": 4,
   "id": "9211dfc1",
   "metadata": {},
   "outputs": [
    {
     "name": "stdout",
     "output_type": "stream",
     "text": [
      "Enter the first side: 23\n",
      "Enter the second side: 45\n",
      "Enter the third side: 23\n",
      "The triangle is: Isosceles\n"
     ]
    }
   ],
   "source": [
    "\n",
    "\n",
    "side1 = float(input(\"Enter the first side: \"))\n",
    "side2 = float(input(\"Enter the second side: \"))\n",
    "side3 = float(input(\"Enter the third side: \"))\n",
    "\n",
    "# Check the type of triangle\n",
    "if side1 == side2 == side3:\n",
    "    triangle_type = \"Equilateral\"\n",
    "elif side1 == side2 or side2 == side3 or side1 == side3:\n",
    "    triangle_type = \"Isosceles\"\n",
    "else:\n",
    "    triangle_type = \"Scalene\"\n",
    "\n",
    "print(f\"The triangle is: {triangle_type}\")"
   ]
  },
  {
   "cell_type": "markdown",
   "id": "8820aebb",
   "metadata": {},
   "source": [
    "## 4) leap year or not"
   ]
  },
  {
   "cell_type": "code",
   "execution_count": 5,
   "id": "64c6c716",
   "metadata": {},
   "outputs": [
    {
     "name": "stdout",
     "output_type": "stream",
     "text": [
      "Enter a year: 2024\n",
      "2024 is a leap year.\n"
     ]
    }
   ],
   "source": [
    "#4)# Input the year\n",
    "year = int(input(\"Enter a year: \"))\n",
    "\n",
    "# Check if the year is a leap year\n",
    "if (year % 4 == 0 and year % 100 != 0) or (year % 400 == 0):\n",
    "    print(f\"{year} is a leap year.\")\n",
    "else:\n",
    "    print(f\"{year} is not a leap year.\")"
   ]
  },
  {
   "cell_type": "markdown",
   "id": "42f87252",
   "metadata": {},
   "source": [
    "## 5)find the  datatype "
   ]
  },
  {
   "cell_type": "code",
   "execution_count": 22,
   "id": "c9418917",
   "metadata": {},
   "outputs": [
    {
     "name": "stdout",
     "output_type": "stream",
     "text": [
      "Enter any number34\n",
      "The variable is an integer.\n"
     ]
    }
   ],
   "source": [
    "\n",
    "variable = int(input(\"Enter any number\"))\n",
    "\n",
    "if isinstance(variable, int):\n",
    "    print(\"The variable is an integer.\")\n",
    "elif isinstance(variable, float):\n",
    "    print(\"The variable is a float.\")\n",
    "elif isinstance(variable, str):\n",
    "    print(\"The variable is a string.\")\n",
    "elif isinstance(variable, bool):\n",
    "    print(\"The variable is a boolean.\")\n",
    "else:\n",
    "    print(\"The variable is of an unknown type.\")\n",
    "\n"
   ]
  },
  {
   "cell_type": "markdown",
   "id": "17ae96a7",
   "metadata": {},
   "source": [
    "# FOR LOOP Question "
   ]
  },
  {
   "cell_type": "markdown",
   "id": "04a54153",
   "metadata": {},
   "source": [
    "\n",
    "## 6)Python program to get the Fibonacci series between 0 to 50."
   ]
  },
  {
   "cell_type": "code",
   "execution_count": 11,
   "id": "71a23835",
   "metadata": {},
   "outputs": [
    {
     "name": "stdout",
     "output_type": "stream",
     "text": [
      "enter the number50\n",
      "Fibonacci series:\n",
      "[0, 1, 1, 2, 3, 5, 8, 13, 21, 34]\n"
     ]
    }
   ],
   "source": [
    "\n",
    "\n",
    "max_value = int( input(\"enter the number\"))\n",
    "\n",
    "# Initialize the first two Fibonacci numbers\n",
    "a, b = 0, 1\n",
    "\n",
    "# List to store the Fibonacci series\n",
    "series = []\n",
    "\n",
    "# Generate the Fibonacci series\n",
    "for _ in range(max_value):  # We don't need a precise range limit here; will break out of loop\n",
    "    if a > max_value:\n",
    "        break\n",
    "    series.append(a)\n",
    "    a, b = b, a + b\n",
    "\n",
    "# Print the Fibonacci series\n",
    "print(\"Fibonacci series:\")\n",
    "print(series)"
   ]
  },
  {
   "cell_type": "markdown",
   "id": "1cf94c61",
   "metadata": {},
   "source": [
    "## 7) Python program that accepts a string and calculates the number of digits and letters."
   ]
  },
  {
   "cell_type": "code",
   "execution_count": 12,
   "id": "6651e19e",
   "metadata": {},
   "outputs": [
    {
     "name": "stdout",
     "output_type": "stream",
     "text": [
      "Enter a string: My124dhan\n",
      "Number of digits: 3\n",
      "Number of letters: 6\n"
     ]
    }
   ],
   "source": [
    "\n",
    "# take string input from user\n",
    "user_input = input(\"Enter a string: \")\n",
    "\n",
    "# Initialize counters for digits and letters\n",
    "num_digits = 0\n",
    "num_letters = 0\n",
    "\n",
    "# Iterate through each character in the string\n",
    "for char in user_input:\n",
    "    if char.isdigit():\n",
    "        num_digits += 1\n",
    "    elif char.isalpha():\n",
    "        num_letters += 1\n",
    "\n",
    "# Print the results\n",
    "print(\"Number of digits:\", num_digits)\n",
    "print(\"Number of letters:\", num_letters)"
   ]
  },
  {
   "cell_type": "markdown",
   "id": "171c8c91",
   "metadata": {},
   "source": [
    "## 8)Write a program that finds all prime numbers in a given range (e.g., from 1 to 100)."
   ]
  },
  {
   "cell_type": "code",
   "execution_count": 13,
   "id": "f8b74ad9",
   "metadata": {},
   "outputs": [
    {
     "name": "stdout",
     "output_type": "stream",
     "text": [
      "PLease enter the end number100\n",
      "Prime numbers between 1 and 100 are:\n",
      "2 3 5 7 11 13 17 19 23 29 31 37 41 43 47 53 59 61 67 71 73 79 83 89 97 "
     ]
    }
   ],
   "source": [
    "\n",
    "# Define the range\n",
    "start = 1\n",
    "end = int(input(\"PLease enter the end number\"))\n",
    "\n",
    "# Function to check if a number is prime\n",
    "def is_prime(n):\n",
    "    if n <= 1:\n",
    "        return False\n",
    "    for i in range(2, int(n**0.5) + 1):\n",
    "        if n % i == 0:\n",
    "            return False\n",
    "    return True\n",
    "\n",
    "# Find and print all prime numbers in the range\n",
    "print(\"Prime numbers between\", start, \"and\", end, \"are:\")\n",
    "for num in range(start, end + 1):\n",
    "    if is_prime(num):\n",
    "        print(num, end=' ')\n"
   ]
  },
  {
   "cell_type": "markdown",
   "id": "4602ed05",
   "metadata": {},
   "source": [
    "## 9) Print a Pyramid Pattern"
   ]
  },
  {
   "cell_type": "code",
   "execution_count": 14,
   "id": "d226364b",
   "metadata": {},
   "outputs": [
    {
     "name": "stdout",
     "output_type": "stream",
     "text": [
      "Enter the number of rows: 9\n",
      "        *\n",
      "       ***\n",
      "      *****\n",
      "     *******\n",
      "    *********\n",
      "   ***********\n",
      "  *************\n",
      " ***************\n",
      "*****************\n"
     ]
    }
   ],
   "source": [
    "\n",
    "\n",
    "# Take input from the user\n",
    "rows = int(input(\"Enter the number of rows: \"))\n",
    "\n",
    "# Print the pyramid pattern\n",
    "for i in range(1, rows + 1):\n",
    "    print(' ' * (rows - i) + '*' * (2 * i - 1))"
   ]
  },
  {
   "cell_type": "markdown",
   "id": "b5f465b9",
   "metadata": {},
   "source": [
    "## 10 ) Print a Diamond Pattern"
   ]
  },
  {
   "cell_type": "code",
   "execution_count": 15,
   "id": "bbc6d1ae",
   "metadata": {},
   "outputs": [
    {
     "name": "stdout",
     "output_type": "stream",
     "text": [
      "Enter the number of rows: 5\n",
      "    *\n",
      "   ***\n",
      "  *****\n",
      " *******\n",
      "*********\n",
      " *******\n",
      "  *****\n",
      "   ***\n",
      "    *\n"
     ]
    }
   ],
   "source": [
    "\n",
    "\n",
    "rows = int(input(\"Enter the number of rows: \"))\n",
    "\n",
    "# Print the top half of the diamond\n",
    "for i in range(1, rows + 1):\n",
    "    print(' ' * (rows - i) + '*' * (2 * i - 1))\n",
    "\n",
    "# Print the bottom half of the diamond\n",
    "for i in range(rows - 1, 0, -1):\n",
    "    print(' ' * (rows - i) + '*' * (2 * i - 1))"
   ]
  },
  {
   "cell_type": "markdown",
   "id": "9dcb3ace",
   "metadata": {},
   "source": [
    "# While Loop"
   ]
  },
  {
   "cell_type": "markdown",
   "id": "a0549b5e",
   "metadata": {},
   "source": [
    "## 11)Reverse the Digits of an Integer"
   ]
  },
  {
   "cell_type": "code",
   "execution_count": null,
   "id": "e6e72df2",
   "metadata": {},
   "outputs": [],
   "source": [
    "\n",
    "\n",
    "num = int(input(\"Enter an integer: \"))\n",
    "\n",
    "# Initialize the reversed number to 0\n",
    "reversed_num = 0\n",
    "\n",
    "# Reverse the digits using a while loop\n",
    "while num != 0:\n",
    "    digit = num % 10\n",
    "    reversed_num = reversed_num * 10 + digit\n",
    "    num //= 10\n",
    "\n",
    "print(f\"The reversed number is {reversed_num}\")"
   ]
  },
  {
   "cell_type": "markdown",
   "id": "57e8a829",
   "metadata": {},
   "source": [
    "## 12)Print a Multiplication Table"
   ]
  },
  {
   "cell_type": "code",
   "execution_count": 17,
   "id": "66d7470e",
   "metadata": {},
   "outputs": [
    {
     "name": "stdout",
     "output_type": "stream",
     "text": [
      "Enter a number: 23\n",
      "Multiplication table for 23:\n",
      "23 x 1 = 23\n",
      "23 x 2 = 46\n",
      "23 x 3 = 69\n",
      "23 x 4 = 92\n",
      "23 x 5 = 115\n",
      "23 x 6 = 138\n",
      "23 x 7 = 161\n",
      "23 x 8 = 184\n",
      "23 x 9 = 207\n",
      "23 x 10 = 230\n"
     ]
    }
   ],
   "source": [
    "\n",
    "\n",
    "# Take input from the user\n",
    "num = int(input(\"Enter a number: \"))\n",
    "\n",
    "# Initialize the counter\n",
    "i = 1\n",
    "\n",
    "# Print the multiplication table using a while loop\n",
    "print(f\"Multiplication table for {num}:\")\n",
    "while i <= 10:\n",
    "    print(f\"{num} x {i} = {num * i}\")\n",
    "    i += 1"
   ]
  },
  {
   "cell_type": "markdown",
   "id": "bc6683a3",
   "metadata": {},
   "source": [
    "## 13) ATM Calculator Program"
   ]
  },
  {
   "cell_type": "code",
   "execution_count": 18,
   "id": "425497f9",
   "metadata": {},
   "outputs": [
    {
     "name": "stdout",
     "output_type": "stream",
     "text": [
      "\n",
      "--- ATM Menu ---\n",
      "1. Check Balance\n",
      "2. Deposit Money\n",
      "3. Withdraw Money\n",
      "4. Exit\n",
      "Enter your choice (1-4): 1\n",
      "Your current balance is: $1000\n",
      "\n",
      "--- ATM Menu ---\n",
      "1. Check Balance\n",
      "2. Deposit Money\n",
      "3. Withdraw Money\n",
      "4. Exit\n",
      "Enter your choice (1-4): 2\n",
      "Enter the amount to deposit: $599\n",
      "$599.0 has been deposited. Your new balance is: $1599.0\n",
      "\n",
      "--- ATM Menu ---\n",
      "1. Check Balance\n",
      "2. Deposit Money\n",
      "3. Withdraw Money\n",
      "4. Exit\n",
      "Enter your choice (1-4): 4\n",
      "Exiting the ATM. Have a great day!\n"
     ]
    }
   ],
   "source": [
    "\n",
    "\n",
    "# Initialize the balance\n",
    "balance = 1000  # starting balance\n",
    "\n",
    "def atm_menu():\n",
    "    print(\"\\n--- ATM Menu ---\")\n",
    "    print(\"1. Check Balance\")\n",
    "    print(\"2. Deposit Money\")\n",
    "    print(\"3. Withdraw Money\")\n",
    "    print(\"4. Exit\")\n",
    "\n",
    "while True:\n",
    "    atm_menu()\n",
    "    choice = input(\"Enter your choice (1-4): \")\n",
    "\n",
    "    if choice == '1':\n",
    "        # Check balance\n",
    "        print(f\"Your current balance is: ${balance}\")\n",
    "    \n",
    "    elif choice == '2':\n",
    "        # Deposit money\n",
    "        amount = float(input(\"Enter the amount to deposit: $\"))\n",
    "        if amount > 0:\n",
    "            balance += amount\n",
    "            print(f\"${amount} has been deposited. Your new balance is: ${balance}\")\n",
    "        else:\n",
    "            print(\"Invalid deposit amount.\")\n",
    "    \n",
    "    elif choice == '3':\n",
    "        # Withdraw money\n",
    "        amount = float(input(\"Enter the amount to withdraw: $\"))\n",
    "        if 0 < amount <= balance:\n",
    "            balance -= amount\n",
    "            print(f\"${amount} has been withdrawn. Your new balance is: ${balance}\")\n",
    "        elif amount > balance:\n",
    "            print(\"Insufficient balance.\")\n",
    "        else:\n",
    "            print(\"Invalid withdrawal amount.\")\n",
    "    \n",
    "    elif choice == '4':\n",
    "        # Exit\n",
    "        print(\"Exiting the ATM. Have a great day!\")\n",
    "        break\n",
    "    \n",
    "    else:\n",
    "        print(\"Invalid choice. Please select a valid option.\")\n"
   ]
  },
  {
   "cell_type": "markdown",
   "id": "7632be41",
   "metadata": {},
   "source": [
    "## 14) primer number or not "
   ]
  },
  {
   "cell_type": "code",
   "execution_count": 19,
   "id": "1241a95f",
   "metadata": {},
   "outputs": [
    {
     "name": "stdout",
     "output_type": "stream",
     "text": [
      "Prime numbers in the list are: [13, 17, 29, 37]\n"
     ]
    }
   ],
   "source": [
    "\n",
    "def is_prime(n):\n",
    "    # Function to check if a number is prime\n",
    "    if n <= 1:\n",
    "        return False\n",
    "    if n <= 3:\n",
    "        return True\n",
    "    if n % 2 == 0 or n % 3 == 0:\n",
    "        return False\n",
    "    i = 5\n",
    "    while i * i <= n:\n",
    "        if n % i == 0 or n % (i + 2) == 0:\n",
    "            return False\n",
    "        i += 6\n",
    "    return True\n",
    "\n",
    "# Given list of numbers\n",
    "numbers = [10, 13, 17, 21, 29, 34, 37]\n",
    "\n",
    "# Initialize index\n",
    "index = 0\n",
    "\n",
    "# List to store prime numbers\n",
    "primes = []\n",
    "\n",
    "# Find prime numbers in the given list\n",
    "while index < len(numbers):\n",
    "    number = numbers[index]\n",
    "    if is_prime(number):\n",
    "        primes.append(number)\n",
    "    index += 1\n",
    "\n",
    "# Print the prime numbers\n",
    "print(\"Prime numbers in the list are:\", primes)\n"
   ]
  },
  {
   "cell_type": "markdown",
   "id": "cc59bf4e",
   "metadata": {},
   "source": [
    "## 15) grade of student : "
   ]
  },
  {
   "cell_type": "code",
   "execution_count": 20,
   "id": "ebdf89a4",
   "metadata": {},
   "outputs": [
    {
     "name": "stdout",
     "output_type": "stream",
     "text": [
      "Enter the student's score (0-100): 90\n",
      "The grade for a score of 90.0 is A.\n"
     ]
    }
   ],
   "source": [
    "#15) grade of student : \n",
    "def get_grade(score):\n",
    "    # Function to determine the grade based on the score\n",
    "    if 90 <= score <= 100:\n",
    "        return 'A'\n",
    "    elif 80 <= score < 90:\n",
    "        return 'B'\n",
    "    elif 70 <= score < 80:\n",
    "        return 'C'\n",
    "    elif 60 <= score < 70:\n",
    "        return 'D'\n",
    "    elif 0 <= score < 60:\n",
    "        return 'F'\n",
    "    else:\n",
    "        return None\n",
    "\n",
    "# Initialize score\n",
    "score = -1\n",
    "\n",
    "# Use a while loop to get a valid score from the user\n",
    "while score < 0 or score > 100:\n",
    "    try:\n",
    "        # Take score input from the user\n",
    "        score = float(input(\"Enter the student's score (0-100): \"))\n",
    "        if score < 0 or score > 100:\n",
    "            print(\"Score must be between 0 and 100. Please enter again.\")\n",
    "    except ValueError:\n",
    "        print(\"Invalid input. Please enter a numeric value.\")\n",
    "\n",
    "# Determine and print the grade\n",
    "grade = get_grade(score)\n",
    "print(f\"The grade for a score of {score} is {grade}.\")\n"
   ]
  },
  {
   "cell_type": "markdown",
   "id": "16351888",
   "metadata": {},
   "source": [
    "# SET"
   ]
  },
  {
   "cell_type": "markdown",
   "id": "4d57a030",
   "metadata": {},
   "source": [
    "## 16)Union of Two Sets"
   ]
  },
  {
   "cell_type": "code",
   "execution_count": 24,
   "id": "15e18eaa",
   "metadata": {},
   "outputs": [
    {
     "name": "stdout",
     "output_type": "stream",
     "text": [
      "Enter elements of the first set separated by spaces: 1 3  5 6 7 8 \n",
      "Enter elements of the second set separated by spaces: 1 24 56 78 88\n",
      "Union of the two sets: {1, 3, 5, 6, 7, 8, 78, 24, 56, 88}\n"
     ]
    }
   ],
   "source": [
    "\n",
    "\n",
    "#16)Union of Two Sets\n",
    "\n",
    "# Take input for the first set\n",
    "set1 = set(map(int, input(\"Enter elements of the first set separated by spaces: \").split()))\n",
    "\n",
    "# Take input for the second set\n",
    "set2 = set(map(int, input(\"Enter elements of the second set separated by spaces: \").split()))\n",
    "\n",
    "# Compute the union of the two sets\n",
    "union_set = set1.union(set2)\n",
    "\n",
    "# Print the union\n",
    "print(\"Union of the two sets:\", union_set)\n"
   ]
  },
  {
   "cell_type": "markdown",
   "id": "9df2028e",
   "metadata": {},
   "source": [
    "## 17)Check if One Set is a Subset of Another"
   ]
  },
  {
   "cell_type": "code",
   "execution_count": 26,
   "id": "2a9b8bc5",
   "metadata": {},
   "outputs": [
    {
     "name": "stdout",
     "output_type": "stream",
     "text": [
      "Enter elements of the first set separated by spaces: 1 2 3 4 5 6 7\n",
      "Enter elements of the second set separated by spaces: 1 2 3 4 5 6\n",
      "The first set is not a subset of the second set.\n"
     ]
    }
   ],
   "source": [
    "\n",
    "# Take input for the first set\n",
    "set1 = set(map(int, input(\"Enter elements of the first set separated by spaces: \").split()))\n",
    "\n",
    "# Take input for the second set\n",
    "set2 = set(map(int, input(\"Enter elements of the second set separated by spaces: \").split()))\n",
    "\n",
    "# Check if the first set is a subset of the second set\n",
    "is_subset = set1.issubset(set2)\n",
    "\n",
    "# Print the result\n",
    "if is_subset:\n",
    "    print(\"The first set is a subset of the second set.\")\n",
    "else:\n",
    "    print(\"The first set is not a subset of the second set.\")\n",
    "\n"
   ]
  },
  {
   "cell_type": "markdown",
   "id": "46f874eb",
   "metadata": {},
   "source": [
    "## 18)Function to compare two sets\n"
   ]
  },
  {
   "cell_type": "code",
   "execution_count": 27,
   "id": "05215e30",
   "metadata": {},
   "outputs": [
    {
     "name": "stdout",
     "output_type": "stream",
     "text": [
      "Enter elements of the first set separated by spaces: 1 2 4 5 6 7\n",
      "Enter elements of the second set separated by spaces: 0 9 8 7 6 \n",
      "Set 1: {1, 2, 4, 5, 6, 7}\n",
      "Set 2: {0, 6, 7, 8, 9}\n",
      "The two sets are not equal.\n",
      "Set 1 is not a subset of Set 2.\n",
      "Set 1 is not a superset of Set 2.\n",
      "Set 1 and Set 2 are not disjoint.\n"
     ]
    }
   ],
   "source": [
    "\n",
    "def compare_sets(set1, set2):\n",
    "    print(\"Set 1:\", set1)\n",
    "    print(\"Set 2:\", set2)\n",
    "\n",
    "    # Check if sets are equal\n",
    "    if set1 == set2:\n",
    "        print(\"The two sets are equal.\")\n",
    "    else:\n",
    "        print(\"The two sets are not equal.\")\n",
    "    \n",
    "    # Check if set1 is a subset of set2\n",
    "    if set1.issubset(set2):\n",
    "        print(\"Set 1 is a subset of Set 2.\")\n",
    "    else:\n",
    "        print(\"Set 1 is not a subset of Set 2.\")\n",
    "    \n",
    "    # Check if set1 is a superset of set2\n",
    "    if set1.issuperset(set2):\n",
    "        print(\"Set 1 is a superset of Set 2.\")\n",
    "    else:\n",
    "        print(\"Set 1 is not a superset of Set 2.\")\n",
    "    \n",
    "    # Check if sets are disjoint\n",
    "    if set1.isdisjoint(set2):\n",
    "        print(\"Set 1 and Set 2 are disjoint.\")\n",
    "    else:\n",
    "        print(\"Set 1 and Set 2 are not disjoint.\")\n",
    "\n",
    "# Example usage\n",
    "set1 = set(map(int, input(\"Enter elements of the first set separated by spaces: \").split()))\n",
    "set2 = set(map(int, input(\"Enter elements of the second set separated by spaces: \").split()))\n",
    "\n",
    "compare_sets(set1, set2)\n"
   ]
  },
  {
   "cell_type": "markdown",
   "id": "c0dae96b",
   "metadata": {},
   "source": [
    "# TUPLE"
   ]
  },
  {
   "cell_type": "markdown",
   "id": "2ae3bbfe",
   "metadata": {},
   "source": [
    "## 19)Find the Maximum and Minimum in a Tuple"
   ]
  },
  {
   "cell_type": "code",
   "execution_count": 28,
   "id": "819111f0",
   "metadata": {},
   "outputs": [
    {
     "name": "stdout",
     "output_type": "stream",
     "text": [
      "Maximum value: 50\n",
      "Minimum value: 10\n"
     ]
    }
   ],
   "source": [
    "\n",
    "\n",
    "# Create a tuple of integers\n",
    "numbers = (10, 20, 30, 40, 50)\n",
    "\n",
    "# Find the maximum and minimum values\n",
    "max_value = max(numbers)\n",
    "min_value = min(numbers)\n",
    "\n",
    "# Print the results\n",
    "print(f\"Maximum value: {max_value}\")\n",
    "print(f\"Minimum value: {min_value}\")\n"
   ]
  },
  {
   "cell_type": "markdown",
   "id": "51d28e5d",
   "metadata": {},
   "source": [
    "## 20 )Tuple Slicing"
   ]
  },
  {
   "cell_type": "code",
   "execution_count": 29,
   "id": "fc286853",
   "metadata": {},
   "outputs": [
    {
     "name": "stdout",
     "output_type": "stream",
     "text": [
      "Sliced tuple: (30, 40, 50, 60)\n"
     ]
    }
   ],
   "source": [
    "\n",
    "\n",
    "# Create a tuple\n",
    "data = (10, 20, 30, 40, 50, 60, 70)\n",
    "\n",
    "# Slice the tuple to get elements from index 2 to 5\n",
    "sliced_tuple = data[2:6]\n",
    "\n",
    "# Print the sliced tuple\n",
    "print(\"Sliced tuple:\", sliced_tuple)\n"
   ]
  },
  {
   "cell_type": "markdown",
   "id": "0eb95ff8",
   "metadata": {},
   "source": [
    "## 21) Convert a Tuple to a List and Back to a Tuple"
   ]
  },
  {
   "cell_type": "code",
   "execution_count": 31,
   "id": "0c881937",
   "metadata": {},
   "outputs": [
    {
     "name": "stdout",
     "output_type": "stream",
     "text": [
      "number you want to appned2\n",
      "Modified tuple: (10, 2, 3, 4, 5, 2)\n"
     ]
    }
   ],
   "source": [
    "\n",
    "# Create a tuple\n",
    "original_tuple = (1, 2, 3, 4, 5)\n",
    "\n",
    "# Convert the tuple to a list\n",
    "temp_list = list(original_tuple)\n",
    "\n",
    "# Modify the list\n",
    "x= int(input(\"number you want to appned\"))\n",
    "temp_list.append(x)\n",
    "temp_list[0] = 10\n",
    "\n",
    "# Convert the list back to a tuple\n",
    "modified_tuple = tuple(temp_list)\n",
    "\n",
    "# Print the modified tuple\n",
    "print(\"Modified tuple:\", modified_tuple)\n"
   ]
  },
  {
   "cell_type": "markdown",
   "id": "abcf576a",
   "metadata": {},
   "source": [
    "## 22)Count Occurrences of an Element in a Tuple"
   ]
  },
  {
   "cell_type": "code",
   "execution_count": 32,
   "id": "48d41e41",
   "metadata": {},
   "outputs": [
    {
     "name": "stdout",
     "output_type": "stream",
     "text": [
      "Element 2 occurs 3 times in the tuple.\n"
     ]
    }
   ],
   "source": [
    "#22)Count Occurrences of an Element in a Tuple\n",
    "# Create a tuple with repeated elements\n",
    "elements = (1, 2, 2, 3, 4, 2, 5)\n",
    "\n",
    "# Element to count\n",
    "element_to_count = 2\n",
    "\n",
    "# Count the occurrences\n",
    "count = elements.count(element_to_count)\n",
    "\n",
    "# Print the count\n",
    "print(f\"Element {element_to_count} occurs {count} times in the tuple.\")\n"
   ]
  },
  {
   "cell_type": "markdown",
   "id": "eb810816",
   "metadata": {},
   "source": [
    "## 23) Concatenate two tuples."
   ]
  },
  {
   "cell_type": "code",
   "execution_count": 33,
   "id": "d7336979",
   "metadata": {},
   "outputs": [
    {
     "name": "stdout",
     "output_type": "stream",
     "text": [
      "Enter elements for the first tuple separated by spaces: 1 2 3 4 5 6\n",
      "Enter elements for the second tuple separated by spaces: 2 3 4 5 6 7 8\n",
      "Concatenated tuple: ('1', '2', '3', '4', '5', '6', '2', '3', '4', '5', '6', '7', '8')\n"
     ]
    }
   ],
   "source": [
    "\n",
    "\n",
    "# Take input for the first tuple\n",
    "input1 = input(\"Enter elements for the first tuple separated by spaces: \")\n",
    "# Split the input string into a list of strings and convert to tuple\n",
    "tuple1 = tuple(input1.split())\n",
    "\n",
    "# Take input for the second tuple\n",
    "input2 = input(\"Enter elements for the second tuple separated by spaces: \")\n",
    "# Split the input string into a list of strings and convert to tuple\n",
    "tuple2 = tuple(input2.split())\n",
    "\n",
    "# Concatenate the two tuples\n",
    "concatenated_tuple = tuple1 + tuple2\n",
    "\n",
    "# Print the resulting concatenated tuple\n",
    "print(\"Concatenated tuple:\", concatenated_tuple)\n",
    "\n",
    "\n",
    "\n"
   ]
  },
  {
   "cell_type": "markdown",
   "id": "bbf86acf",
   "metadata": {},
   "source": [
    "#  Dictionary "
   ]
  },
  {
   "cell_type": "markdown",
   "id": "e47a31cf",
   "metadata": {},
   "source": [
    "## 24)Add and Update Dictionary Entries\n"
   ]
  },
  {
   "cell_type": "code",
   "execution_count": 34,
   "id": "52fe527f",
   "metadata": {},
   "outputs": [
    {
     "name": "stdout",
     "output_type": "stream",
     "text": [
      "Updated dictionary: {'John': 'A', 'Emma': 'A+', 'Sophia': 'C', 'Michael': 'B'}\n"
     ]
    }
   ],
   "source": [
    "\n",
    "\n",
    "# Create a dictionary\n",
    "students = {\n",
    "    \"John\": \"A\",\n",
    "    \"Emma\": \"B\",\n",
    "    \"Sophia\": \"C\"\n",
    "}\n",
    "\n",
    "# Add a new entry\n",
    "students[\"Michael\"] = \"B\"\n",
    "\n",
    "# Update an existing entry\n",
    "students[\"Emma\"] = \"A+\"\n",
    "\n",
    "# Print the updated dictionary\n",
    "print(\"Updated dictionary:\", students)\n"
   ]
  },
  {
   "cell_type": "markdown",
   "id": "4e9ee45b",
   "metadata": {},
   "source": [
    "## 25) Remove a Key from Dictionary"
   ]
  },
  {
   "cell_type": "code",
   "execution_count": 35,
   "id": "7d22a99e",
   "metadata": {},
   "outputs": [
    {
     "name": "stdout",
     "output_type": "stream",
     "text": [
      "Before removal: {'Apples': 50, 'Bananas': 20, 'Cherries': 15}\n",
      "After removal: {'Apples': 50, 'Cherries': 15}\n"
     ]
    }
   ],
   "source": [
    "\n",
    "\n",
    "# Create a dictionary\n",
    "inventory = {\n",
    "    \"Apples\": 50,\n",
    "    \"Bananas\": 20,\n",
    "    \"Cherries\": 15\n",
    "}\n",
    "\n",
    "# Print the dictionary before removal\n",
    "print(\"Before removal:\", inventory)\n",
    "\n",
    "# Remove the key 'Bananas'\n",
    "del inventory[\"Bananas\"]\n",
    "\n",
    "# Print the dictionary after removal\n",
    "print(\"After removal:\", inventory)\n"
   ]
  },
  {
   "cell_type": "markdown",
   "id": "b2f9e62c",
   "metadata": {},
   "source": [
    "## 26) Merge Two Dictionaries"
   ]
  },
  {
   "cell_type": "code",
   "execution_count": 36,
   "id": "b8e68d65",
   "metadata": {},
   "outputs": [
    {
     "name": "stdout",
     "output_type": "stream",
     "text": [
      "Merged dictionary: {'a': 1, 'b': 2, 'c': 3, 'd': 4}\n"
     ]
    }
   ],
   "source": [
    "\n",
    "# Define two dictionaries\n",
    "dict1 = {\"a\": 1, \"b\": 2}\n",
    "dict2 = {\"c\": 3, \"d\": 4}\n",
    "\n",
    "# Merge the dictionaries\n",
    "merged_dict = {**dict1, **dict2}\n",
    "\n",
    "# Print the merged dictionary\n",
    "print(\"Merged dictionary:\", merged_dict)\n"
   ]
  },
  {
   "cell_type": "markdown",
   "id": "62a373cd",
   "metadata": {},
   "source": [
    "# 27) square"
   ]
  },
  {
   "cell_type": "code",
   "execution_count": 37,
   "id": "aa52c8d8",
   "metadata": {},
   "outputs": [
    {
     "name": "stdout",
     "output_type": "stream",
     "text": [
      "Dictionary of squares: {1: 1, 2: 4, 3: 9, 4: 16, 5: 25}\n"
     ]
    }
   ],
   "source": [
    "\n",
    "\n",
    "# Create a dictionary using dictionary comprehension\n",
    "squares = {x: x**2 for x in range(1, 6)}\n",
    "\n",
    "# Print the dictionary\n",
    "print(\"Dictionary of squares:\", squares)\n"
   ]
  },
  {
   "cell_type": "markdown",
   "id": "b62e0051",
   "metadata": {},
   "source": [
    "# LIST"
   ]
  },
  {
   "cell_type": "markdown",
   "id": "ffd012bd",
   "metadata": {},
   "source": [
    "# 28)Sort a List"
   ]
  },
  {
   "cell_type": "code",
   "execution_count": 38,
   "id": "2d3e8ba3",
   "metadata": {},
   "outputs": [
    {
     "name": "stdout",
     "output_type": "stream",
     "text": [
      "List in ascending order: [1, 2, 3, 5, 6, 8, 9]\n",
      "List in descending order: [9, 8, 6, 5, 3, 2, 1]\n"
     ]
    }
   ],
   "source": [
    "\n",
    "# Create a list of integers\n",
    "numbers = [5, 3, 8, 6, 1, 9, 2]\n",
    "\n",
    "# Sort the list in ascending order\n",
    "numbers.sort()\n",
    "print(\"List in ascending order:\", numbers)\n",
    "\n",
    "# Sort the list in descending order\n",
    "numbers.sort(reverse=True)\n",
    "print(\"List in descending order:\", numbers)\n"
   ]
  },
  {
   "cell_type": "markdown",
   "id": "1b137791",
   "metadata": {},
   "source": [
    "## 29)Find the Largest and Smallest Element in a List"
   ]
  },
  {
   "cell_type": "code",
   "execution_count": null,
   "id": "44db0abb",
   "metadata": {},
   "outputs": [],
   "source": [
    "\n",
    "\n",
    "# Take input from the user\n",
    "input_list = input(\"Enter numbers separated by spaces: \")\n",
    "\n",
    "# Convert the input string into a list of integers\n",
    "numbers = list(map(int, input_list.split()))\n",
    "\n",
    "# Find the largest element\n",
    "largest = max(numbers)\n",
    "print(\"Largest element:\", largest)\n",
    "\n",
    "# Find the smallest element\n",
    "smallest = min(numbers)\n",
    "print(\"Smallest element:\", smallest)\n"
   ]
  },
  {
   "cell_type": "markdown",
   "id": "7b8d76ee",
   "metadata": {},
   "source": [
    "# 30)Remove Duplicates from a List"
   ]
  },
  {
   "cell_type": "code",
   "execution_count": 40,
   "id": "72597ff7",
   "metadata": {},
   "outputs": [
    {
     "name": "stdout",
     "output_type": "stream",
     "text": [
      "List without duplicates: [1, 2, 3, 4, 5]\n"
     ]
    }
   ],
   "source": [
    "\n",
    "\n",
    "numbers = [1, 2, 2, 3, 4, 4, 5]\n",
    "\n",
    "# Remove duplicates by converting to a set and back to a list\n",
    "unique_numbers = list(set(numbers))\n",
    "\n",
    "# Print the list without duplicates\n",
    "print(\"List without duplicates:\", unique_numbers)"
   ]
  },
  {
   "cell_type": "markdown",
   "id": "8d7b5a9e",
   "metadata": {},
   "source": [
    "## 31)  Reverse a List"
   ]
  },
  {
   "cell_type": "code",
   "execution_count": 41,
   "id": "b13130c5",
   "metadata": {},
   "outputs": [
    {
     "name": "stdout",
     "output_type": "stream",
     "text": [
      "Reversed list: ['d', 'c', 'b', 'a']\n"
     ]
    }
   ],
   "source": [
    "\n",
    "\n",
    "# Create a list\n",
    "items = [\"a\", \"b\", \"c\", \"d\"]\n",
    "\n",
    "# Reverse the list\n",
    "items.reverse()\n",
    "\n",
    "# Print the reversed list\n",
    "print(\"Reversed list:\", items)\n"
   ]
  },
  {
   "cell_type": "markdown",
   "id": "6759c068",
   "metadata": {},
   "source": [
    "# 32) count positive and negative numbers in a list"
   ]
  },
  {
   "cell_type": "code",
   "execution_count": 42,
   "id": "760f87c0",
   "metadata": {},
   "outputs": [
    {
     "name": "stdout",
     "output_type": "stream",
     "text": [
      "Enter numbers separated by spaces: 1 2 -3 5 -6 8\n",
      "Number of positive numbers: 4\n",
      "Number of negative numbers: 2\n"
     ]
    }
   ],
   "source": [
    "\n",
    "input_list = input(\"Enter numbers separated by spaces: \")\n",
    "\n",
    "# Convert the input string into a list of integers\n",
    "numbers = list(map(int, input_list.split()))\n",
    "\n",
    "# Initialize counters\n",
    "positive_count = 0\n",
    "negative_count = 0\n",
    "\n",
    "# Count positive and negative numbers\n",
    "for num in numbers:\n",
    "    if num > 0:\n",
    "        positive_count += 1\n",
    "    elif num < 0:\n",
    "        negative_count += 1\n",
    "\n",
    "# Print the results\n",
    "print(\"Number of positive numbers:\", positive_count)\n",
    "print(\"Number of negative numbers:\", negative_count)\n"
   ]
  },
  {
   "cell_type": "markdown",
   "id": "fbe80f58",
   "metadata": {},
   "source": [
    "# 34 Find sum and average of List in Python"
   ]
  },
  {
   "cell_type": "code",
   "execution_count": 43,
   "id": "6e6e29b6",
   "metadata": {},
   "outputs": [
    {
     "name": "stdout",
     "output_type": "stream",
     "text": [
      "Enter numbers separated by spaces: 23 4 5 6 7 9 67 45 34 2\n",
      "Sum of the list: 202\n",
      "Average of the list: 20.2\n"
     ]
    }
   ],
   "source": [
    "#34 Find sum and average of List in Python\n",
    "\n",
    "\n",
    "input_list = input(\"Enter numbers separated by spaces: \")\n",
    "\n",
    "# Convert the input string into a list of integers\n",
    "numbers = list(map(int, input_list.split()))\n",
    "\n",
    "# Calculate the sum of the list\n",
    "sum_of_numbers = sum(numbers)\n",
    "\n",
    "# Calculate the average of the list\n",
    "average_of_numbers = sum_of_numbers / len(numbers) if numbers else 0\n",
    "\n",
    "# Print the results\n",
    "print(\"Sum of the list:\", sum_of_numbers)\n",
    "print(\"Average of the list:\", average_of_numbers)\n"
   ]
  },
  {
   "cell_type": "markdown",
   "id": "73b5389a",
   "metadata": {},
   "source": [
    "# 35 Reverse a String"
   ]
  },
  {
   "cell_type": "code",
   "execution_count": 44,
   "id": "cb161849",
   "metadata": {},
   "outputs": [
    {
     "name": "stdout",
     "output_type": "stream",
     "text": [
      "Enter a string: ashdjdfh\n",
      "Reversed string: hfdjdhsa\n"
     ]
    }
   ],
   "source": [
    "#String \n",
    "#35 Reverse a String\n",
    "\n",
    "input_string = input(\"Enter a string: \")\n",
    "\n",
    "# Reverse the string\n",
    "reversed_string = input_string[::-1]\n",
    "\n",
    "# Print the reversed string\n",
    "print(\"Reversed string:\", reversed_string)\n"
   ]
  },
  {
   "cell_type": "markdown",
   "id": "dab0f81e",
   "metadata": {},
   "source": [
    "# 36  Check if a String is a Palindrome"
   ]
  },
  {
   "cell_type": "code",
   "execution_count": 45,
   "id": "bdcbf456",
   "metadata": {},
   "outputs": [
    {
     "name": "stdout",
     "output_type": "stream",
     "text": [
      "Enter a string: madam\n",
      "The string is a palindrome.\n"
     ]
    }
   ],
   "source": [
    "#36  Check if a String is a Palindrome\n",
    "\n",
    "\n",
    "input_string = input(\"Enter a string: \")\n",
    "\n",
    "# Check if the string is a palindrome\n",
    "is_palindrome = input_string == input_string[::-1]\n",
    "\n",
    "# Print the result\n",
    "if is_palindrome:\n",
    "    print(\"The string is a palindrome.\")\n",
    "else:\n",
    "    print(\"The string is not a palindrome.\")\n"
   ]
  },
  {
   "cell_type": "markdown",
   "id": "dcd3e6c9",
   "metadata": {},
   "source": [
    "# 37 Count Vowels in a String"
   ]
  },
  {
   "cell_type": "code",
   "execution_count": 46,
   "id": "bcdb2c13",
   "metadata": {},
   "outputs": [
    {
     "name": "stdout",
     "output_type": "stream",
     "text": [
      "Enter a string: aajkdf\n",
      "Number of vowels in the string: 2\n"
     ]
    }
   ],
   "source": [
    "#37 Count Vowels in a String\n",
    "\n",
    "input_string = input(\"Enter a string: \")\n",
    "\n",
    "# Initialize the count of vowels\n",
    "vowel_count = 0\n",
    "\n",
    "# Define the set of vowels\n",
    "vowels = \"aeiouAEIOU\"\n",
    "\n",
    "# Count the vowels in the string\n",
    "for char in input_string:\n",
    "    if char in vowels:\n",
    "        vowel_count += 1\n",
    "\n",
    "# Print the number of vowels\n",
    "print(\"Number of vowels in the string:\", vowel_count)\n"
   ]
  },
  {
   "cell_type": "markdown",
   "id": "7863dc9c",
   "metadata": {},
   "source": [
    "# 38 Convert String to Title Case"
   ]
  },
  {
   "cell_type": "code",
   "execution_count": 47,
   "id": "68386fa2",
   "metadata": {},
   "outputs": [
    {
     "name": "stdout",
     "output_type": "stream",
     "text": [
      "Enter a string: isfhdjfh j\n",
      "Title case string: Isfhdjfh J\n"
     ]
    }
   ],
   "source": [
    "#38 Convert String to Title Case\n",
    "\n",
    "# Take input from the user\n",
    "input_string = input(\"Enter a string: \")\n",
    "\n",
    "# Convert the string to title case\n",
    "title_case_string = input_string.title()\n",
    "\n",
    "# Print the title case string\n",
    "print(\"Title case string:\", title_case_string)\n"
   ]
  },
  {
   "cell_type": "markdown",
   "id": "b19bf58b",
   "metadata": {},
   "source": [
    "# 39 Count the Number of Words in a String"
   ]
  },
  {
   "cell_type": "code",
   "execution_count": 48,
   "id": "5dac2a1b",
   "metadata": {},
   "outputs": [
    {
     "name": "stdout",
     "output_type": "stream",
     "text": [
      "Enter a string: i love my string\n",
      "Number of words in the string: 4\n"
     ]
    }
   ],
   "source": [
    "#39 Count the Number of Words in a String\n",
    "\n",
    "# Take input from the user\n",
    "input_string = input(\"Enter a string: \")\n",
    "\n",
    "# Split the string into a list of words\n",
    "words = input_string.split()\n",
    "\n",
    "# Count the number of words\n",
    "word_count = len(words)\n",
    "\n",
    "# Print the number of words\n",
    "print(\"Number of words in the string:\", word_count)"
   ]
  },
  {
   "cell_type": "markdown",
   "id": "f4778472",
   "metadata": {},
   "source": [
    "# lambda question "
   ]
  },
  {
   "cell_type": "markdown",
   "id": "1952ae18",
   "metadata": {},
   "source": [
    "# 40 Square of a Number "
   ]
  },
  {
   "cell_type": "code",
   "execution_count": 49,
   "id": "5248a88f",
   "metadata": {},
   "outputs": [
    {
     "name": "stdout",
     "output_type": "stream",
     "text": [
      "Enter a number: 3\n",
      "Square of the number: 9\n"
     ]
    }
   ],
   "source": [
    "#lambda question \n",
    "\n",
    "#40 Square of a Number \n",
    "#  find the square of a number\n",
    "square = lambda x: x ** 2\n",
    "\n",
    "# Example usage\n",
    "num = int(input(\"Enter a number: \"))\n",
    "print(\"Square of the number:\", square(num))\n"
   ]
  },
  {
   "cell_type": "markdown",
   "id": "03d3e40f",
   "metadata": {},
   "source": [
    "# 41 Check if a Number is Even"
   ]
  },
  {
   "cell_type": "code",
   "execution_count": 57,
   "id": "3b7ed160",
   "metadata": {},
   "outputs": [
    {
     "name": "stdout",
     "output_type": "stream",
     "text": [
      "Enter a number: 23\n",
      "23 is  odd\n"
     ]
    }
   ],
   "source": [
    "#41 Check if a Number is Even\n",
    "#check if a number is even == true /false\n",
    "even = lambda x: x % 2 == 0\n",
    "\n",
    "num = int(input(\"Enter a number: \"))\n",
    "if (even==0):\n",
    "    print(num,\"is even\")\n",
    "else:\n",
    "    print(num,\"is  odd\")\n",
    "    \n"
   ]
  },
  {
   "cell_type": "markdown",
   "id": "c48c071a",
   "metadata": {},
   "source": [
    "# 42  Sort a List of Tuples by the Second Element\n"
   ]
  },
  {
   "cell_type": "code",
   "execution_count": 58,
   "id": "3b1f40a1",
   "metadata": {},
   "outputs": [
    {
     "name": "stdout",
     "output_type": "stream",
     "text": [
      "Sorted list: [(2, 1), (3, 2), (1, 3)]\n"
     ]
    }
   ],
   "source": [
    "#42  Sort a List of Tuples by the Second Element\n",
    "\n",
    "# tuples\n",
    "list_of_tuples = [(1, 3), (2, 1), (3, 2)]\n",
    "\n",
    "# Sort the list of tuples by the second element\n",
    "sorted_list = sorted(list_of_tuples, key=lambda x: x[1])\n",
    "\n",
    "# Print the sorted list\n",
    "print(\"Sorted list:\", sorted_list)\n"
   ]
  },
  {
   "cell_type": "markdown",
   "id": "21459892",
   "metadata": {},
   "source": [
    "# 43 Map to Calculate Squares of a List of Numbers"
   ]
  },
  {
   "cell_type": "code",
   "execution_count": 59,
   "id": "850071c8",
   "metadata": {},
   "outputs": [
    {
     "name": "stdout",
     "output_type": "stream",
     "text": [
      "Product: 120\n"
     ]
    }
   ],
   "source": [
    "#43 Map to Calculate Squares of a List of Numbers\n",
    "from functools import reduce\n",
    "\n",
    "# Example list of numbers\n",
    "numbers = [1, 2, 3, 4, 5]\n",
    "\n",
    "# Find the product of the list of numbers\n",
    "product = reduce(lambda x, y: x * y, numbers)\n",
    "\n",
    "# Print the product\n",
    "print(\"Product:\", product)\n"
   ]
  },
  {
   "cell_type": "markdown",
   "id": "0ed725fb",
   "metadata": {},
   "source": [
    "# 44Concatenate Strings in a List"
   ]
  },
  {
   "cell_type": "code",
   "execution_count": 60,
   "id": "2b30fe25",
   "metadata": {},
   "outputs": [
    {
     "name": "stdout",
     "output_type": "stream",
     "text": [
      "Concatenated string: hello world python\n"
     ]
    }
   ],
   "source": [
    "#44Concatenate Strings in a List\n",
    "\n",
    "from functools import reduce\n",
    "\n",
    "# Example list of strings\n",
    "strings = [\"hello\", \"world\", \"python\"]\n",
    "\n",
    "# Concatenate all strings in the list\n",
    "concatenated_string = reduce(lambda x, y: x + \" \" + y, strings)\n",
    "\n",
    "# Print the concatenated string\n",
    "print(\"Concatenated string:\", concatenated_string)\n"
   ]
  },
  {
   "cell_type": "markdown",
   "id": "46e1a309",
   "metadata": {},
   "source": [
    "# User define funtion : \n",
    "# 45 Hotel bill calculator"
   ]
  },
  {
   "cell_type": "code",
   "execution_count": 61,
   "id": "a1944e46",
   "metadata": {},
   "outputs": [
    {
     "name": "stdout",
     "output_type": "stream",
     "text": [
      "Enter the room rate per night: 1200\n",
      "Enter the number of nights stayed: 5\n",
      "Enter the total additional charges: 455\n",
      "Enter the tax percentage: 23\n",
      "The total bill amount is: 7939.65\n"
     ]
    }
   ],
   "source": [
    "#User define funtion : \n",
    "# 45 Hotel bill calculator \n",
    "def calculate_total_bill(room_rate, nights, additional_charges, tax_percentage):\n",
    "    # Calculate the total room cost\n",
    "    room_cost = room_rate * nights\n",
    "    \n",
    "    # Calculate the subtotal\n",
    "    subtotal = room_cost + additional_charges\n",
    "    \n",
    "    # Calculate the tax amount\n",
    "    tax_amount = subtotal * (tax_percentage / 100)\n",
    "    \n",
    "    # Calculate the total bill amount\n",
    "    total_bill = subtotal + tax_amount\n",
    "    \n",
    "    return total_bill\n",
    "\n",
    "room_rate = float(input(\"Enter the room rate per night: \"))\n",
    "nights = int(input(\"Enter the number of nights stayed: \"))\n",
    "additional_charges = float(input(\"Enter the total additional charges: \"))\n",
    "tax_percentage = float(input(\"Enter the tax percentage: \"))\n",
    "\n",
    "total_bill = calculate_total_bill(room_rate, nights, additional_charges, tax_percentage)\n",
    "print(f\"The total bill amount is: {total_bill:.2f}\")\n"
   ]
  },
  {
   "cell_type": "markdown",
   "id": "eb0443e6",
   "metadata": {},
   "source": [
    "# 46 Speed calculator "
   ]
  },
  {
   "cell_type": "code",
   "execution_count": 62,
   "id": "ce640ba7",
   "metadata": {},
   "outputs": [
    {
     "name": "stdout",
     "output_type": "stream",
     "text": [
      "Enter the distance traveled (in kilometers): 23\n",
      "Enter the time taken (in hours): 34\n",
      "The speed of the car is: 0.68 km/h\n"
     ]
    }
   ],
   "source": [
    "#46 Speed calculator \n",
    "def calculate_speed(distance, time):\n",
    "    if time == 0:\n",
    "        return \"Time cannot be zero.\"\n",
    "    speed = distance / time\n",
    "    return speed\n",
    "\n",
    "# Example usage\n",
    "distance = float(input(\"Enter the distance traveled (in kilometers): \"))\n",
    "time = float(input(\"Enter the time taken (in hours): \"))\n",
    "\n",
    "speed = calculate_speed(distance, time)\n",
    "if isinstance(speed, str):\n",
    "    print(speed)\n",
    "else:\n",
    "    print(f\"The speed of the car is: {speed:.2f} km/h\")\n"
   ]
  },
  {
   "cell_type": "markdown",
   "id": "70f6b2a6",
   "metadata": {},
   "source": [
    "# 47 Simple Calculator"
   ]
  },
  {
   "cell_type": "code",
   "execution_count": 64,
   "id": "b678a668",
   "metadata": {},
   "outputs": [
    {
     "name": "stdout",
     "output_type": "stream",
     "text": [
      "Select operation:\n",
      "1. Add\n",
      "2. Subtract\n",
      "3. Multiply\n",
      "4. Divide\n",
      "Enter choice (1/2/3/4): 1\n",
      "Enter first number: 1\n",
      "Enter second number: 2\n",
      "Result: 3.0\n"
     ]
    }
   ],
   "source": [
    "#47 Simple Calculator\n",
    "def add(x, y):\n",
    "    return x + y\n",
    "\n",
    "def subtract(x, y):\n",
    "    return x - y\n",
    "\n",
    "def multiply(x, y):\n",
    "    return x * y\n",
    "\n",
    "def divide(x, y):\n",
    "    if y == 0:\n",
    "        return \"Cannot divide by zero!\"\n",
    "    return x / y\n",
    "\n",
    "print(\"Select operation:\")\n",
    "print(\"1. Add\")\n",
    "print(\"2. Subtract\")\n",
    "print(\"3. Multiply\")\n",
    "print(\"4. Divide\")\n",
    "\n",
    "choice = input(\"Enter choice (1/2/3/4): \")\n",
    "\n",
    "num1 = float(input(\"Enter first number: \"))\n",
    "num2 = float(input(\"Enter second number: \"))\n",
    "\n",
    "if choice == '1':\n",
    "    print(f\"Result: {add(num1, num2)}\")\n",
    "elif choice == '2':\n",
    "    print(f\"Result: {subtract(num1, num2)}\")\n",
    "elif choice == '3':\n",
    "    print(f\"Result: {multiply(num1, num2)}\")\n",
    "elif choice == '4':\n",
    "    print(f\"Result: {divide(num1, num2)}\")\n",
    "else:\n",
    "    print(\"Invalid input\")\n",
    "\n"
   ]
  },
  {
   "cell_type": "markdown",
   "id": "92e8ef36",
   "metadata": {},
   "source": [
    "# 48 Expense Tracker"
   ]
  },
  {
   "cell_type": "code",
   "execution_count": 65,
   "id": "8aa148ae",
   "metadata": {},
   "outputs": [
    {
     "name": "stdout",
     "output_type": "stream",
     "text": [
      "\n",
      "Expense Tracker:\n",
      "1. Add Expense\n",
      "2. View Expenses\n",
      "3. Exit\n",
      "Enter choice (1/2/3): 3\n",
      "Exiting...\n"
     ]
    }
   ],
   "source": [
    "#48 Expense Tracker\n",
    "\n",
    "def add_expense(expenses):\n",
    "    description = input(\"Enter expense description: \")\n",
    "    amount = float(input(\"Enter expense amount: \"))\n",
    "    expenses.append({'description': description, 'amount': amount})\n",
    "\n",
    "def view_expenses(expenses):\n",
    "    if not expenses:\n",
    "        print(\"No expenses to display.\")\n",
    "    else:\n",
    "        total = 0\n",
    "        for expense in expenses:\n",
    "            print(f\"{expense['description']}: ${expense['amount']:.2f}\")\n",
    "            total += expense['amount']\n",
    "        print(f\"Total expenses: ${total:.2f}\")\n",
    "\n",
    "def main():\n",
    "    expenses = []\n",
    "    while True:\n",
    "        print(\"\\nExpense Tracker:\")\n",
    "        print(\"1. Add Expense\")\n",
    "        print(\"2. View Expenses\")\n",
    "        print(\"3. Exit\")\n",
    "        \n",
    "        choice = input(\"Enter choice (1/2/3): \")\n",
    "        \n",
    "        if choice == '1':\n",
    "            add_expense(expenses)\n",
    "        elif choice == '2':\n",
    "            view_expenses(expenses)\n",
    "        elif choice == '3':\n",
    "            print(\"Exiting...\")\n",
    "            break\n",
    "        else:\n",
    "            print(\"Invalid choice. Please try again.\")\n",
    "\n",
    "if __name__ == \"__main__\":\n",
    "    main()\n"
   ]
  },
  {
   "cell_type": "markdown",
   "id": "4ae391e4",
   "metadata": {},
   "source": [
    "# 49 Check the password "
   ]
  },
  {
   "cell_type": "code",
   "execution_count": 1,
   "id": "1f0a36be",
   "metadata": {},
   "outputs": [
    {
     "name": "stdout",
     "output_type": "stream",
     "text": [
      "Enter username: Dhanshree1122\n",
      "Enter password: asdbd\n",
      "Invalid User, Sirens Alarm ring!!!!!\n"
     ]
    }
   ],
   "source": [
    "\n",
    "\n",
    "def check_credentials(username, password):\n",
    "    # Correct username and password\n",
    "    correct_username = \"Dhanshree1122\"\n",
    "    correct_password = \"abc@entry_room\"\n",
    "    \n",
    "    # Check if both username and password match\n",
    "    if username == correct_username and password == correct_password:\n",
    "        return f\"Welcome {username}! Start from where you left.\"\n",
    "    else:\n",
    "        return \"Invalid User, Sirens Alarm ring!!!!!\"\n",
    "\n",
    "# Get username and password from the user\n",
    "username = input(\"Enter username: \")\n",
    "password = input(\"Enter password: \")\n",
    "\n",
    "# Check the credentials and print the result\n",
    "print(check_credentials(username, password))"
   ]
  },
  {
   "cell_type": "markdown",
   "id": "9f8c5092",
   "metadata": {},
   "source": [
    "# 50 list sort"
   ]
  },
  {
   "cell_type": "code",
   "execution_count": 2,
   "id": "fb42661b",
   "metadata": {},
   "outputs": [
    {
     "name": "stdout",
     "output_type": "stream",
     "text": [
      "Enter comma-separated strings: ads, dfd, fgf\n",
      "Sorted output: ads, dfd, fgf\n"
     ]
    }
   ],
   "source": [
    "def sort_strings(input_string):\n",
    "    string_list = [s.strip() for s in input_string.split(',')]\n",
    "    sorted_list = sorted(string_list)\n",
    "    return ', '.join(sorted_list)\n",
    "\n",
    "input_string = input(\"Enter comma-separated strings: \")\n",
    "result = sort_strings(input_string)\n",
    "print(f\"Sorted output: {result}\")\n"
   ]
  },
  {
   "cell_type": "markdown",
   "id": "590ff68d",
   "metadata": {},
   "source": [
    "# 51 inheritance"
   ]
  },
  {
   "cell_type": "code",
   "execution_count": 3,
   "id": "6c7df167",
   "metadata": {},
   "outputs": [
    {
     "name": "stdout",
     "output_type": "stream",
     "text": [
      "Buddy says woof!\n",
      "Whiskers says meow!\n"
     ]
    }
   ],
   "source": [
    "class Animal:\n",
    "    def __init__(self, name):\n",
    "        self.name = name\n",
    "\n",
    "    def speak(self):\n",
    "        pass\n",
    "\n",
    "class Dog(Animal):\n",
    "    def speak(self):\n",
    "        return f\"{self.name} says woof!\"\n",
    "\n",
    "class Cat(Animal):\n",
    "    def speak(self):\n",
    "        return f\"{self.name} says meow!\"\n",
    "\n",
    "dog = Dog(\"Buddy\")\n",
    "cat = Cat(\"Whiskers\")\n",
    "\n",
    "print(dog.speak())  # Buddy says woof!\n",
    "print(cat.speak())  # Whiskers says meow!\n"
   ]
  },
  {
   "cell_type": "markdown",
   "id": "8f7c2321",
   "metadata": {},
   "source": [
    "# 52.polymorphism"
   ]
  },
  {
   "cell_type": "code",
   "execution_count": 4,
   "id": "e549caf0",
   "metadata": {},
   "outputs": [
    {
     "name": "stdout",
     "output_type": "stream",
     "text": [
      "Chirp\n",
      "Screech\n"
     ]
    }
   ],
   "source": [
    "class Bird:\n",
    "    def sound(self):\n",
    "        return \"Some sound\"\n",
    "\n",
    "class Sparrow(Bird):\n",
    "    def sound(self):\n",
    "        return \"Chirp\"\n",
    "\n",
    "class Eagle(Bird):\n",
    "    def sound(self):\n",
    "        return \"Screech\"\n",
    "\n",
    "def make_sound(bird):\n",
    "    print(bird.sound())\n",
    "\n",
    "sparrow = Sparrow()\n",
    "eagle = Eagle()\n",
    "\n",
    "make_sound(sparrow)  # Chirp\n",
    "make_sound(eagle)    # Screech\n"
   ]
  },
  {
   "cell_type": "markdown",
   "id": "352a066a",
   "metadata": {},
   "source": [
    "# 53encapsulation"
   ]
  },
  {
   "cell_type": "code",
   "execution_count": 5,
   "id": "f6d903d8",
   "metadata": {},
   "outputs": [
    {
     "name": "stdout",
     "output_type": "stream",
     "text": [
      "5000\n",
      "6000\n"
     ]
    }
   ],
   "source": [
    "class Employee:\n",
    "    def __init__(self, name, salary):\n",
    "        self.__name = name\n",
    "        self.__salary = salary\n",
    "\n",
    "    def get_salary(self):\n",
    "        return self.__salary\n",
    "\n",
    "    def set_salary(self, amount):\n",
    "        if amount > 0:\n",
    "            self.__salary = amount\n",
    "        else:\n",
    "            print(\"Invalid salary amount\")\n",
    "\n",
    "emp = Employee(\"John\", 5000)\n",
    "print(emp.get_salary())  # 5000\n",
    "emp.set_salary(6000)\n",
    "print(emp.get_salary())  # 6000\n"
   ]
  },
  {
   "cell_type": "markdown",
   "id": "8cb25e68",
   "metadata": {},
   "source": [
    "# 54)abstract class"
   ]
  },
  {
   "cell_type": "code",
   "execution_count": 6,
   "id": "b20fe008",
   "metadata": {},
   "outputs": [
    {
     "name": "stdout",
     "output_type": "stream",
     "text": [
      "78.5\n"
     ]
    }
   ],
   "source": [
    "from abc import ABC, abstractmethod\n",
    "\n",
    "class Shape(ABC):\n",
    "    @abstractmethod\n",
    "    def area(self):\n",
    "        pass\n",
    "\n",
    "class Circle(Shape):\n",
    "    def __init__(self, radius):\n",
    "        self.radius = radius\n",
    "\n",
    "    def area(self):\n",
    "        return 3.14 * self.radius * self.radius\n",
    "\n",
    "circle = Circle(5)\n",
    "print(circle.area())  # 78.5\n"
   ]
  },
  {
   "cell_type": "markdown",
   "id": "a4fdc5a2",
   "metadata": {},
   "source": [
    "# #LIST COMPREHENSION \n",
    "    # 55) # Create a list of squares"
   ]
  },
  {
   "cell_type": "code",
   "execution_count": null,
   "id": "51e8c297",
   "metadata": {},
   "outputs": [],
   "source": [
    "# 55) # Create a list of squares\n",
    "squares = [x**2 for x in range(10)]\n",
    "print(squares)  # Output: [0, 1, 4, 9, 16, 25, 36, 49, 64, 81]\n"
   ]
  }
 ],
 "metadata": {
  "kernelspec": {
   "display_name": "Python 3 (ipykernel)",
   "language": "python",
   "name": "python3"
  },
  "language_info": {
   "codemirror_mode": {
    "name": "ipython",
    "version": 3
   },
   "file_extension": ".py",
   "mimetype": "text/x-python",
   "name": "python",
   "nbconvert_exporter": "python",
   "pygments_lexer": "ipython3",
   "version": "3.11.5"
  }
 },
 "nbformat": 4,
 "nbformat_minor": 5
}
